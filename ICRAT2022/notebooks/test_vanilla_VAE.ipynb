{
 "cells": [
  {
   "cell_type": "markdown",
   "id": "5584bb47",
   "metadata": {},
   "source": [
    "Tutorial notebook of a basic implementation of VAE. It also emphasis all the assuptions that are made"
   ]
  },
  {
   "cell_type": "code",
   "execution_count": 2,
   "id": "f4d934e2",
   "metadata": {},
   "outputs": [],
   "source": [
    "from typing import List, Optional, Tuple\n",
    "import numpy as np\n",
    "\n",
    "from sklearn.preprocessing import MinMaxScaler\n",
    "\n",
    "from traffic.core import Traffic\n",
    "\n",
    "import pytorch_lightning as pl\n",
    "from torch import nn\n",
    "import torch\n",
    "\n",
    "from torch.utils.data import DataLoader, random_split"
   ]
  },
  {
   "cell_type": "markdown",
   "id": "82870020",
   "metadata": {},
   "source": [
    "# Data"
   ]
  },
  {
   "cell_type": "code",
   "execution_count": 20,
   "id": "74f1044a",
   "metadata": {},
   "outputs": [],
   "source": [
    "traffic = Traffic.from_file(\"../../deep_traffic_generation/data/traffic_162-216_noga_tilFAF.pkl\")\n",
    "\n",
    "features = [\"track\", \"groundspeed\", \"altitude\", \"timedelta\"]\n",
    "scaler = MinMaxScaler()\n",
    "X = np.stack(list(f.data[features].values.ravel() for f in traffic))\n",
    "\n",
    "#dupplicate rows\n",
    "# X = np.stack(list(f.data[features].values.ravel() for f in traffic))\n",
    "# X = np.tile(X, (10,1))\n",
    "\n",
    "X = scaler.fit_transform(X)"
   ]
  },
  {
   "cell_type": "code",
   "execution_count": 32,
   "id": "e7f2f644",
   "metadata": {},
   "outputs": [],
   "source": [
    "batch_size = 32\n",
    "test_batch_size = 32\n",
    "num_workers = 10\n",
    "\n",
    "\n",
    "train_dataset, val_dataset, test_dataset = random_split(X, [4000, 207, 207])\n",
    "\n",
    "train_loader = DataLoader(\n",
    "        dataset=train_dataset,\n",
    "        batch_size=batch_size,\n",
    "        shuffle=True,\n",
    "        num_workers=num_workers,\n",
    "    )\n",
    "\n",
    "val_loader = DataLoader(\n",
    "        dataset=val_dataset,\n",
    "        batch_size=test_batch_size,\n",
    "        shuffle=True,\n",
    "        num_workers=num_workers,\n",
    "    )\n",
    "\n",
    "test_loader = DataLoader(\n",
    "        dataset=test_dataset,\n",
    "        batch_size=test_batch_size,\n",
    "        shuffle=True,\n",
    "        num_workers=num_workers,\n",
    "    )"
   ]
  },
  {
   "cell_type": "markdown",
   "id": "5f021894",
   "metadata": {},
   "source": [
    "# Neural Net"
   ]
  },
  {
   "cell_type": "code",
   "execution_count": 22,
   "id": "e2f1f27d",
   "metadata": {},
   "outputs": [],
   "source": [
    "class FCN(nn.Module):\n",
    "    \"\"\"Fully-Connected Network.\n",
    "    Args:\n",
    "        input_dim: size of each input sample.\n",
    "        out_dim: size of each output sample.\n",
    "        h_dims: list of sizes for each hidden layer.\n",
    "        h_activ (optional): activation function between\n",
    "            each layer. Defaults to None.\n",
    "        dropout (optional): if non-zero, introduces a Dropout layer on the\n",
    "            outputs of each hidden layer except the last layer, with dropout\n",
    "            probability equal to :attr: `dropout`. Defaults to :math:`0.0`.\n",
    "    \"\"\"\n",
    "\n",
    "    def __init__(\n",
    "        self,\n",
    "        input_dim: int,\n",
    "        out_dim: int,\n",
    "        h_dims: List[int],\n",
    "        h_activ: Optional[nn.Module] = None,\n",
    "        dropout: float = 0.0,\n",
    "    ) -> None:\n",
    "        super().__init__()\n",
    "\n",
    "        layer_dims = [input_dim] + h_dims + [out_dim]\n",
    "        self.n_layers = len(layer_dims) - 1\n",
    "        layers = []\n",
    "\n",
    "        for index in range(self.n_layers):\n",
    "            layer = nn.Linear(\n",
    "                in_features=layer_dims[index],\n",
    "                out_features=layer_dims[index + 1],\n",
    "            )\n",
    "            layers.append(layer)\n",
    "            if (index != self.n_layers - 1) and h_activ is not None:\n",
    "                layers.append(h_activ)\n",
    "\n",
    "            if (index != self.n_layers - 1) and (dropout > 0):\n",
    "                layers.append(nn.Dropout(dropout))\n",
    "\n",
    "        self.layers = nn.Sequential(*layers)\n",
    "\n",
    "    def forward(self, x):\n",
    "        \"\"\"Forward pass through the network.\"\"\"\n",
    "        return self.layers(x)\n",
    "    "
   ]
  },
  {
   "cell_type": "code",
   "execution_count": 33,
   "id": "21aeeae3",
   "metadata": {},
   "outputs": [],
   "source": [
    "kl_list = []\n",
    "reco_list = []\n",
    "elbo_list = []\n",
    "p_list = []\n",
    "\n",
    "class VAE(pl.LightningModule):\n",
    "    def __init__(self, input_dim = 800, enc_out_dim=128, latent_dim=64, hidden_dims = [256]):\n",
    "        super().__init__()\n",
    "\n",
    "        self.save_hyperparameters()\n",
    "\n",
    "        # encoder, decoder\n",
    "        self.encoder = FCN(input_dim, enc_out_dim, hidden_dims, h_activ = nn.Tanh())\n",
    "        self.decoder = FCN(latent_dim, input_dim, hidden_dims, h_activ = nn.Tanh())\n",
    "\n",
    "        # latent distributions parameters\n",
    "        self.fc_mu = nn.Linear(enc_out_dim, latent_dim)\n",
    "        self.fc_var = nn.Linear(enc_out_dim, latent_dim) #diagonal normal distribution cf. pyro\n",
    "\n",
    "        # for the gaussian likelihood\n",
    "        self.log_scale = nn.Parameter(torch.Tensor([0.0]))\n",
    "\n",
    "    def configure_optimizers(self):\n",
    "        return torch.optim.Adam(self.parameters(), lr=1e-4)\n",
    "\n",
    "    #Tout à fait possible de changer la likelyhood ! Gaussienne, Bernoulli, categorical, ....\n",
    "    #Dans ce cas, on change la famille paramétrique correspondant aux paramètres estimés en sortie de decoder\n",
    "    def gaussian_likelihood(self, x_hat, logscale, x):\n",
    "        scale = torch.exp(logscale)\n",
    "        mean = x_hat\n",
    "        dist = torch.distributions.Normal(mean, scale)\n",
    "\n",
    "        # measure prob of seeing image under p(x|z)\n",
    "        log_pxz = dist.log_prob(x) #taille (n_batch * n_feat)-> on somme sur les dimensions MEAN FIELD ASSUMPTION\n",
    "        p_list.append(torch.exp(log_pxz).detach().numpy())\n",
    "        return log_pxz.sum(-1) #une log_prob par couple x,y\n",
    "    \n",
    "    #Instead of sampling independently from the marginals, and summing the log_pro, we could directly sample from\n",
    "    #a multivariate gaussian with diaginal covariance with torch.distributions.Normal(mean, scale).to_event(1)\n",
    "    \n",
    "    def kl_divergence(self, z, mu, std):\n",
    "        # --------------------------\n",
    "        # Monte carlo KL divergence\n",
    "        # --------------------------\n",
    "        # 1. define the first two probabilities (in this case Normal for both)\n",
    "        p = torch.distributions.Normal(torch.zeros_like(mu), torch.ones_like(std))\n",
    "        q = torch.distributions.Normal(mu, std)\n",
    "        #Mean field assumption is done here (1D normals stacked -> marginals)\n",
    "\n",
    "        # 2. get the probabilities from the equation\n",
    "        log_qzx = q.log_prob(z) #shape n_batch*latent dim because MFA\n",
    "        log_pz = p.log_prob(z)\n",
    "\n",
    "        # kl evaluated for each marginals -> shape n_batch*latent_dims \n",
    "        kl = (log_qzx - log_pz)\n",
    "        #sum over the marginals because of MFA -> shape n_batch (because one distrib per x)\n",
    "        kl = kl.sum(-1)\n",
    "        return kl\n",
    "    \n",
    "    def forward(self, x) -> Tuple[Tuple, torch.Tensor, torch.Tensor]:\n",
    "        \n",
    "        # encode x to get the location and log variance parameters\n",
    "        x_encoded = self.encoder(x)\n",
    "        mu, log_var = self.fc_mu(x_encoded), self.fc_var(x_encoded)\n",
    "        std = torch.exp(log_var / 2)\n",
    "        q = torch.distributions.Normal(mu, std)\n",
    "        z = q.rsample() #shape n_batch*latent dims -> one z per distribution (and one distribution per x) \n",
    "        \n",
    "        # decode z\n",
    "        x_hat = self.decoder(z)\n",
    "        return (mu, std), z, x_hat\n",
    "\n",
    "    def training_step(self, batch, batch_idx):\n",
    "        x = batch.float()\n",
    "\n",
    "        params, z, x_hat = self.forward(x)\n",
    "\n",
    "        # reconstruction loss\n",
    "        recon_loss = self.gaussian_likelihood(x_hat, self.log_scale, x) #shape = n_batch\n",
    "\n",
    "        # kl estimated with MC\n",
    "        # Only evaluated with one z per distribution ! Is it the best way ? We could sample different z per distrib\n",
    "        kl = self.kl_divergence(z, params[0], params[1]) #shape = n_batch \n",
    "\n",
    "        # elbo\n",
    "        elbo = (kl - recon_loss)\n",
    "        elbo = elbo.mean()\n",
    "\n",
    "        kl_list.append(kl.mean().detach().numpy())\n",
    "        reco_list.append(recon_loss.mean().detach().numpy())\n",
    "        elbo_list.append(elbo.detach().numpy())\n",
    "\n",
    "        self.log_dict({\n",
    "            'elbo': elbo,\n",
    "            'kl': kl.mean(),\n",
    "            'recon_loss': recon_loss.mean(),\n",
    "        })\n",
    "\n",
    "        return elbo"
   ]
  },
  {
   "cell_type": "code",
   "execution_count": 78,
   "id": "67f8df35",
   "metadata": {},
   "outputs": [
    {
     "name": "stderr",
     "output_type": "stream",
     "text": [
      "INFO:pytorch_lightning.utilities.seed:Global seed set to 42\n",
      "INFO:pytorch_lightning.utilities.distributed:GPU available: False, used: False\n",
      "INFO:pytorch_lightning.utilities.distributed:TPU available: False, using: 0 TPU cores\n",
      "INFO:pytorch_lightning.utilities.distributed:IPU available: False, using: 0 IPUs\n",
      "INFO:pytorch_lightning.core.lightning:\n",
      "  | Name    | Type   | Params\n",
      "-----------------------------------\n",
      "0 | encoder | FCN    | 237 K \n",
      "1 | decoder | FCN    | 222 K \n",
      "2 | fc_mu   | Linear | 8.3 K \n",
      "3 | fc_var  | Linear | 8.3 K \n",
      "-----------------------------------\n",
      "476 K     Trainable params\n",
      "0         Non-trainable params\n",
      "476 K     Total params\n",
      "1.907     Total estimated model params size (MB)\n"
     ]
    },
    {
     "data": {
      "application/vnd.jupyter.widget-view+json": {
       "model_id": "1c3b098011ac404c97e022c02567f8ee",
       "version_major": 2,
       "version_minor": 0
      },
      "text/plain": [
       "Training: -1it [00:00, ?it/s]"
      ]
     },
     "metadata": {},
     "output_type": "display_data"
    }
   ],
   "source": [
    "pl.seed_everything(42)\n",
    "\n",
    "vae = VAE()\n",
    "trainer = pl.Trainer(gpus=0, max_epochs=200, progress_bar_refresh_rate=1)\n",
    "trainer.fit(vae, train_loader)"
   ]
  },
  {
   "cell_type": "code",
   "execution_count": 84,
   "id": "1d934505",
   "metadata": {},
   "outputs": [
    {
     "data": {
      "text/plain": [
       "4.7594647"
      ]
     },
     "execution_count": 84,
     "metadata": {},
     "output_type": "execute_result"
    }
   ],
   "source": [
    "p_list[-1].max()"
   ]
  },
  {
   "cell_type": "code",
   "execution_count": 80,
   "id": "cff74efe",
   "metadata": {},
   "outputs": [
    {
     "data": {
      "text/plain": [
       "array(1150.0266, dtype=float32)"
      ]
     },
     "execution_count": 80,
     "metadata": {},
     "output_type": "execute_result"
    }
   ],
   "source": [
    "reco_list[-1]"
   ]
  },
  {
   "cell_type": "code",
   "execution_count": 79,
   "id": "7899166f",
   "metadata": {},
   "outputs": [
    {
     "data": {
      "text/plain": [
       "[<matplotlib.lines.Line2D at 0x7fd858e15b80>]"
      ]
     },
     "execution_count": 79,
     "metadata": {},
     "output_type": "execute_result"
    },
    {
     "data": {
      "image/png": "[encoded data removed]",
      "text/plain": [
       "<Figure size 432x288 with 1 Axes>"
      ]
     },
     "metadata": {
      "needs_background": "light"
     },
     "output_type": "display_data"
    }
   ],
   "source": [
    "import matplotlib.pyplot as plt\n",
    "plt.plot(reco_list)"
   ]
  },
  {
   "cell_type": "code",
   "execution_count": 57,
   "id": "964216c5",
   "metadata": {},
   "outputs": [
    {
     "data": {
      "text/plain": [
       "tensor(0.9964)"
      ]
     },
     "execution_count": 57,
     "metadata": {},
     "output_type": "execute_result"
    }
   ],
   "source": [
    "x = torch.tensor(X).float()\n",
    "\n",
    "with torch.no_grad():\n",
    "    params, z, x_hat = vae.forward(x.to(vae.device))\n",
    "\n",
    "params[1].mean()"
   ]
  },
  {
   "cell_type": "code",
   "execution_count": 8,
   "id": "1c6b28e2",
   "metadata": {},
   "outputs": [
    {
     "name": "stdout",
     "output_type": "stream",
     "text": [
      "torch.Size([10, 32])\n"
     ]
    }
   ],
   "source": [
    "x = torch.tensor(X).float()\n",
    "\n",
    "with torch.no_grad():\n",
    "    params, z, x_hat = vae.forward(x.to(vae.device))\n",
    "\n",
    "#Au lieu de tirer z dans la loi à priori, on peut tirer z dans la mixture gaussienne formée par\n",
    "#toutes les gaussiennes estimées dans l'espace latent\n",
    "#attention, ici on suppose une fois de plus l'indépendance des marginales dans la GMM (en utilisant distrib.Normal)\n",
    "\n",
    "#covs = [torch.tensor(np.diag(params[1][i])) for i in range(params[1].shape[0])]\n",
    "#covs = torch.stack(covs, 0)\n",
    "\n",
    "mix = torch.distributions.Categorical(torch.ones(x.shape[0],))\n",
    "comp = torch.distributions.Independent(torch.distributions.Normal(params[0], params[1]), 1)\n",
    "#comp = torch.distributions.Independent(torch.distributions.MultivariateNormal(params[0], covs), 1)\n",
    "\n",
    "q = torch.distributions.mixture_same_family.MixtureSameFamily(mix, comp)\n",
    "z_gen = q.sample((10,))\n",
    "print(z_gen.shape)\n",
    "\n",
    "z = z_gen[:1,]\n",
    "with torch.no_grad():\n",
    "    pred = vae.decoder(z.to(vae.device)).cpu()\n",
    "\n",
    "gen = scaler.inverse_transform(pred.numpy())"
   ]
  },
  {
   "cell_type": "code",
   "execution_count": 9,
   "id": "21c31539",
   "metadata": {},
   "outputs": [
    {
     "data": {
      "image/png": "[encoded data removed]",
      "text/plain": [
       "<Figure size 432x288 with 1 Axes>"
      ]
     },
     "metadata": {
      "needs_background": "light"
     },
     "output_type": "display_data"
    }
   ],
   "source": [
    "import matplotlib.pyplot as plt\n",
    "plt.plot(gen[:,1::4].T)\n",
    "plt.show()"
   ]
  },
  {
   "cell_type": "code",
   "execution_count": 9,
   "id": "8f6d06b6",
   "metadata": {},
   "outputs": [],
   "source": [
    "#Generation using a priori distribution\n",
    "#Dans tous les tutos (towardsdatascience, pyro, etc..), on sample z parmi la distribution à priori pour générer\n",
    "# Z COMES FROM NORMAL(0, 1)\n",
    "num_preds = 1\n",
    "p = torch.distributions.Normal(torch.zeros(32), torch.ones(32))\n",
    "z = p.rsample((num_preds,))\n",
    "\n",
    "# SAMPLE mean of output normal distribution\n",
    "with torch.no_grad():\n",
    "    pred = vae.decoder(z.to(vae.device)).cpu()\n",
    "\n",
    "gen = scaler.inverse_transform(pred.numpy())"
   ]
  },
  {
   "cell_type": "code",
   "execution_count": 10,
   "id": "21150fbf",
   "metadata": {},
   "outputs": [
    {
     "data": {
      "image/png": "[encoded data removed]",
      "text/plain": [
       "<Figure size 432x288 with 1 Axes>"
      ]
     },
     "metadata": {
      "needs_background": "light"
     },
     "output_type": "display_data"
    }
   ],
   "source": [
    "import matplotlib.pyplot as plt\n",
    "plt.plot(gen[:,1::4].T)\n",
    "plt.show()"
   ]
  },
  {
   "cell_type": "markdown",
   "id": "99284730",
   "metadata": {},
   "source": [
    "# Use of torch.distribution.Normal"
   ]
  },
  {
   "cell_type": "code",
   "execution_count": 11,
   "id": "02190504",
   "metadata": {},
   "outputs": [
    {
     "data": {
      "text/plain": [
       "tensor([-0.9189, -1.4189, -2.9189, -5.4189])"
      ]
     },
     "execution_count": 11,
     "metadata": {},
     "output_type": "execute_result"
    }
   ],
   "source": [
    "#4 Stacked 1D normal distributions\n",
    "\n",
    "mu = torch.tensor([0,1,2,3])\n",
    "std = torch.tensor([1,1,1,1])\n",
    "\n",
    "p = torch.distributions.Normal(mu, std)\n",
    "p.log_prob(torch.tensor([0]))"
   ]
  },
  {
   "cell_type": "code",
   "execution_count": 12,
   "id": "dcb7144d",
   "metadata": {},
   "outputs": [
    {
     "data": {
      "text/plain": [
       "tensor([ -2.7568, -11.7568])"
      ]
     },
     "execution_count": 12,
     "metadata": {},
     "output_type": "execute_result"
    }
   ],
   "source": [
    "#2 Stacked 3D multivariate normal distributions\n",
    "\n",
    "from torch.distributions.multivariate_normal import MultivariateNormal\n",
    "\n",
    "mean = torch.Tensor([[0,0,0], [4, 5, 6]])\n",
    "cov1 = torch.eye(3)\n",
    "cov2 = torch.Tensor([[1, 1, 1], [1, 2, 2], [1, 2, 3]])\n",
    "cov = torch.stack([cov1, cov2], 0)\n",
    "p = MultivariateNormal(loc=mean, covariance_matrix=cov)\n",
    "\n",
    "p.log_prob(torch.tensor([0,0,0]))"
   ]
  },
  {
   "cell_type": "code",
   "execution_count": 13,
   "id": "bed0306a",
   "metadata": {},
   "outputs": [
    {
     "data": {
      "text/plain": [
       "tensor(-2.4045)"
      ]
     },
     "execution_count": 13,
     "metadata": {},
     "output_type": "execute_result"
    }
   ],
   "source": [
    "# GMM of 5 bivariate normal distributions\n",
    "#bizarre, ici on ne passe que les digonales des covariances des normales...\n",
    "mix = torch.distributions.Categorical(torch.ones(5,))\n",
    "comp = torch.distributions.Independent(torch.distributions.Normal(torch.randn(5,2), torch.rand(5,2)), 1)\n",
    "gmm = torch.distributions.mixture_same_family.MixtureSameFamily(mix, comp)\n",
    "\n",
    "gmm.log_prob(torch.tensor([0,0]))"
   ]
  },
  {
   "cell_type": "code",
   "execution_count": null,
   "id": "242744bf",
   "metadata": {},
   "outputs": [],
   "source": []
  }
 ],
 "metadata": {
  "kernelspec": {
   "display_name": "Python 3",
   "language": "python",
   "name": "python3"
  },
  "language_info": {
   "codemirror_mode": {
    "name": "ipython",
    "version": 3
   },
   "file_extension": ".py",
   "mimetype": "text/x-python",
   "name": "python",
   "nbconvert_exporter": "python",
   "pygments_lexer": "ipython3",
   "version": "3.9.4"
  }
 },
 "nbformat": 4,
 "nbformat_minor": 5
}
