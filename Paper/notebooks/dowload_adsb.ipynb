{
 "cells": [
  {
   "cell_type": "code",
   "execution_count": 1,
   "metadata": {},
   "outputs": [],
   "source": [
    "from traffic.data import opensky\n",
    "from traffic.core import Traffic"
   ]
  },
  {
   "cell_type": "code",
   "execution_count": 4,
   "metadata": {},
   "outputs": [
    {
     "name": "stderr",
     "output_type": "stream",
     "text": [
      "/cluster/home/kruu/.conda/envs/myenv/lib/python3.9/site-packages/ipykernel/ipkernel.py:287: DeprecationWarning: `should_run_async` will not call `transform_cell` automatically in the future. Please pass the result to `transformed_cell` argument and any exception that happen during thetransform in `preprocessing_exc_tuple` in IPython 7.17 and above.\n",
      "  and should_run_async(code)\n"
     ]
    },
    {
     "data": {
      "application/vnd.jupyter.widget-view+json": {
       "model_id": "4c963d47e8d74fc195ce3e8e3647a6b3",
       "version_major": 2,
       "version_minor": 0
      },
      "text/plain": [
       "  0%|          | 0/168 [00:00<?, ?it/s]"
      ]
     },
     "metadata": {},
     "output_type": "display_data"
    }
   ],
   "source": [
    "t_lszh_20_04 = opensky.history(\n",
    "            start=\"2020-04-03 00:00\",\n",
    "            stop=\"2020-04-09 23:59\",\n",
    "            bounds = (8, 47, 9, 48),\n",
    "            nautical_units=True,\n",
    "            progressbar=True\n",
    "        )"
   ]
  },
  {
   "cell_type": "code",
   "execution_count": 26,
   "metadata": {},
   "outputs": [
    {
     "name": "stderr",
     "output_type": "stream",
     "text": [
      "/cluster/home/kruu/.conda/envs/myenv/lib/python3.9/site-packages/ipykernel/ipkernel.py:287: DeprecationWarning: `should_run_async` will not call `transform_cell` automatically in the future. Please pass the result to `transformed_cell` argument and any exception that happen during thetransform in `preprocessing_exc_tuple` in IPython 7.17 and above.\n",
      "  and should_run_async(code)\n"
     ]
    },
    {
     "data": {
      "application/vnd.jupyter.widget-view+json": {
       "model_id": "86d54f3710614735838a39e969e86546",
       "version_major": 2,
       "version_minor": 0
      },
      "text/plain": [
       "  0%|          | 0/168 [00:00<?, ?it/s]"
      ]
     },
     "metadata": {},
     "output_type": "display_data"
    }
   ],
   "source": [
    "t_lszh_19_04 = opensky.history(\n",
    "            start=\"2019-04-05 00:00\",\n",
    "            stop=\"2019-04-11 23:59\",\n",
    "            bounds = (8, 47, 9, 48),\n",
    "            nautical_units=True,\n",
    "            progressbar=True\n",
    "        )"
   ]
  },
  {
   "cell_type": "code",
   "execution_count": 27,
   "metadata": {},
   "outputs": [],
   "source": [
    "t_lszh_20_04.to_pickle(\"../../deep_traffic_generation/data/t_lszh_2020_04.pkl\")\n",
    "t_lszh_19_04.to_pickle(\"../../deep_traffic_generation/data/t_lszh_2019_04.pkl\")"
   ]
  },
  {
   "cell_type": "code",
   "execution_count": 28,
   "metadata": {},
   "outputs": [],
   "source": [
    "traffic = Traffic.from_file(\"../../deep_traffic_generation/data/t_lszh_2019_04.pkl\")"
   ]
  },
  {
   "cell_type": "code",
   "execution_count": 30,
   "metadata": {},
   "outputs": [
    {
     "name": "stderr",
     "output_type": "stream",
     "text": [
      "/cluster/home/kruu/.conda/envs/myenv/lib/python3.9/site-packages/ipykernel/ipkernel.py:287: DeprecationWarning: `should_run_async` will not call `transform_cell` automatically in the future. Please pass the result to `transformed_cell` argument and any exception that happen during thetransform in `preprocessing_exc_tuple` in IPython 7.17 and above.\n",
      "  and should_run_async(code)\n"
     ]
    },
    {
     "data": {
      "text/html": [
       "<b>Traffic with 10954 identifiers</b><style type=\"text/css\">\n",
       "#T_99a6a_row0_col0 {\n",
       "  width: 10em;\n",
       "  height: 80%;\n",
       "  background: linear-gradient(90deg,#5fba7d 100.0%, transparent 100.0%);\n",
       "}\n",
       "#T_99a6a_row1_col0 {\n",
       "  width: 10em;\n",
       "  height: 80%;\n",
       "  background: linear-gradient(90deg,#5fba7d 35.1%, transparent 35.1%);\n",
       "}\n",
       "#T_99a6a_row2_col0 {\n",
       "  width: 10em;\n",
       "  height: 80%;\n",
       "  background: linear-gradient(90deg,#5fba7d 27.8%, transparent 27.8%);\n",
       "}\n",
       "#T_99a6a_row3_col0 {\n",
       "  width: 10em;\n",
       "  height: 80%;\n",
       "  background: linear-gradient(90deg,#5fba7d 27.3%, transparent 27.3%);\n",
       "}\n",
       "#T_99a6a_row4_col0 {\n",
       "  width: 10em;\n",
       "  height: 80%;\n",
       "  background: linear-gradient(90deg,#5fba7d 24.8%, transparent 24.8%);\n",
       "}\n",
       "#T_99a6a_row5_col0 {\n",
       "  width: 10em;\n",
       "  height: 80%;\n",
       "  background: linear-gradient(90deg,#5fba7d 24.7%, transparent 24.7%);\n",
       "}\n",
       "#T_99a6a_row6_col0 {\n",
       "  width: 10em;\n",
       "  height: 80%;\n",
       "  background: linear-gradient(90deg,#5fba7d 23.5%, transparent 23.5%);\n",
       "}\n",
       "#T_99a6a_row7_col0 {\n",
       "  width: 10em;\n",
       "  height: 80%;\n",
       "  background: linear-gradient(90deg,#5fba7d 23.0%, transparent 23.0%);\n",
       "}\n",
       "#T_99a6a_row8_col0 {\n",
       "  width: 10em;\n",
       "  height: 80%;\n",
       "  background: linear-gradient(90deg,#5fba7d 22.8%, transparent 22.8%);\n",
       "}\n",
       "#T_99a6a_row9_col0 {\n",
       "  width: 10em;\n",
       "  height: 80%;\n",
       "  background: linear-gradient(90deg,#5fba7d 22.6%, transparent 22.6%);\n",
       "}\n",
       "</style>\n",
       "<table id=\"T_99a6a_\">\n",
       "  <thead>\n",
       "    <tr>\n",
       "      <th class=\"blank\" >&nbsp;</th>\n",
       "      <th class=\"blank level0\" >&nbsp;</th>\n",
       "      <th class=\"col_heading level0 col0\" >count</th>\n",
       "    </tr>\n",
       "    <tr>\n",
       "      <th class=\"index_name level0\" >icao24</th>\n",
       "      <th class=\"index_name level1\" >callsign</th>\n",
       "      <th class=\"blank col0\" >&nbsp;</th>\n",
       "    </tr>\n",
       "  </thead>\n",
       "  <tbody>\n",
       "    <tr>\n",
       "      <th id=\"T_99a6a_level0_row0\" class=\"row_heading level0 row0\" >4b5ce4</th>\n",
       "      <th id=\"T_99a6a_level1_row0\" class=\"row_heading level1 row0\" >RU7TEST1</th>\n",
       "      <td id=\"T_99a6a_row0_col0\" class=\"data row0 col0\" >604451</td>\n",
       "    </tr>\n",
       "    <tr>\n",
       "      <th id=\"T_99a6a_level0_row1\" class=\"row_heading level0 row1\" >4b5c21</th>\n",
       "      <th id=\"T_99a6a_level1_row1\" class=\"row_heading level1 row1\" >ZEBRA8</th>\n",
       "      <td id=\"T_99a6a_row1_col0\" class=\"data row1 col0\" >211895</td>\n",
       "    </tr>\n",
       "    <tr>\n",
       "      <th id=\"T_99a6a_level0_row2\" class=\"row_heading level0 row2\" >4b5da1</th>\n",
       "      <th id=\"T_99a6a_level1_row2\" class=\"row_heading level1 row2\" >ATL780</th>\n",
       "      <td id=\"T_99a6a_row2_col0\" class=\"data row2 col0\" >167914</td>\n",
       "    </tr>\n",
       "    <tr>\n",
       "      <th id=\"T_99a6a_level0_row3\" class=\"row_heading level0 row3\" >4b5c65</th>\n",
       "      <th id=\"T_99a6a_level1_row3\" class=\"row_heading level1 row3\" >ORION1</th>\n",
       "      <td id=\"T_99a6a_row3_col0\" class=\"data row3 col0\" >164729</td>\n",
       "    </tr>\n",
       "    <tr>\n",
       "      <th id=\"T_99a6a_level0_row4\" class=\"row_heading level0 row4\" >4b5c1e</th>\n",
       "      <th id=\"T_99a6a_level1_row4\" class=\"row_heading level1 row4\" >ZEBRA2</th>\n",
       "      <td id=\"T_99a6a_row4_col0\" class=\"data row4 col0\" >149632</td>\n",
       "    </tr>\n",
       "    <tr>\n",
       "      <th id=\"T_99a6a_level0_row5\" class=\"row_heading level0 row5\" >4b5d9e</th>\n",
       "      <th id=\"T_99a6a_level1_row5\" class=\"row_heading level1 row5\" >TE09</th>\n",
       "      <td id=\"T_99a6a_row5_col0\" class=\"data row5 col0\" >149010</td>\n",
       "    </tr>\n",
       "    <tr>\n",
       "      <th id=\"T_99a6a_level0_row6\" class=\"row_heading level0 row6\" >4b5c19</th>\n",
       "      <th id=\"T_99a6a_level1_row6\" class=\"row_heading level1 row6\" >GUSTI1</th>\n",
       "      <td id=\"T_99a6a_row6_col0\" class=\"data row6 col0\" >142210</td>\n",
       "    </tr>\n",
       "    <tr>\n",
       "      <th id=\"T_99a6a_level0_row7\" class=\"row_heading level0 row7\" >4b5da3</th>\n",
       "      <th id=\"T_99a6a_level1_row7\" class=\"row_heading level1 row7\" >TE22</th>\n",
       "      <td id=\"T_99a6a_row7_col0\" class=\"data row7 col0\" >139171</td>\n",
       "    </tr>\n",
       "    <tr>\n",
       "      <th id=\"T_99a6a_level0_row8\" class=\"row_heading level0 row8\" >4b5da5</th>\n",
       "      <th id=\"T_99a6a_level1_row8\" class=\"row_heading level1 row8\" >TE24</th>\n",
       "      <td id=\"T_99a6a_row8_col0\" class=\"data row8 col0\" >137587</td>\n",
       "    </tr>\n",
       "    <tr>\n",
       "      <th id=\"T_99a6a_level0_row9\" class=\"row_heading level0 row9\" >4b5da2</th>\n",
       "      <th id=\"T_99a6a_level1_row9\" class=\"row_heading level1 row9\" >TE21</th>\n",
       "      <td id=\"T_99a6a_row9_col0\" class=\"data row9 col0\" >136478</td>\n",
       "    </tr>\n",
       "  </tbody>\n",
       "</table>\n"
      ],
      "text/plain": [
       "                  count\n",
       "icao24 callsign        \n",
       "4b5ce4 RU7TEST1  604451\n",
       "4b5c21 ZEBRA8    211895\n",
       "4b5da1 ATL780    167914\n",
       "4b5c65 ORION1    164729\n",
       "4b5c1e ZEBRA2    149632\n",
       "4b5d9e TE09      149010\n",
       "4b5c19 GUSTI1    142210\n",
       "4b5da3 TE22      139171\n",
       "4b5da5 TE24      137587\n",
       "4b5da2 TE21      136478"
      ]
     },
     "execution_count": 30,
     "metadata": {},
     "output_type": "execute_result"
    }
   ],
   "source": [
    "traffic"
   ]
  },
  {
   "cell_type": "code",
   "execution_count": null,
   "metadata": {},
   "outputs": [],
   "source": []
  }
 ],
 "metadata": {
  "interpreter": {
   "hash": "78622b9d858dedd18221a4db34d49c6a1ee9b4676c3d79c0fc0968b8a58969cd"
  },
  "kernelspec": {
   "display_name": "Python 3.9.4 ('myenv')",
   "language": "python",
   "name": "python3"
  },
  "language_info": {
   "codemirror_mode": {
    "name": "ipython",
    "version": 3
   },
   "file_extension": ".py",
   "mimetype": "text/x-python",
   "name": "python",
   "nbconvert_exporter": "python",
   "pygments_lexer": "ipython3",
   "version": "3.9.4"
  },
  "orig_nbformat": 4
 },
 "nbformat": 4,
 "nbformat_minor": 2
}
