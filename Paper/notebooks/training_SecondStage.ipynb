{
 "cells": [
  {
   "cell_type": "code",
   "execution_count": 1,
   "metadata": {},
   "outputs": [],
   "source": [
    "from deep_traffic_generation.tcvae import TCVAE\n",
    "from deep_traffic_generation.core.datasets import TrafficDataset\n",
    "from deep_traffic_generation.SecondStageVAE import VAE\n",
    "from deep_traffic_generation.core.utils import get_dataloaders\n",
    "\n",
    "from sklearn.preprocessing import MinMaxScaler\n",
    "\n",
    "import numpy as np\n",
    "\n",
    "import torch\n",
    "import pytorch_lightning as pl\n",
    "\n",
    "import warnings\n",
    "warnings.filterwarnings(\"ignore\")\n",
    "\n",
    "torch.manual_seed(42)\n",
    "np.random.seed(42)"
   ]
  },
  {
   "cell_type": "markdown",
   "metadata": {},
   "source": [
    "# Load First Stage"
   ]
  },
  {
   "cell_type": "code",
   "execution_count": 2,
   "metadata": {},
   "outputs": [
    {
     "data": {
      "text/plain": [
       "Dataset TrafficDataset\n",
       "    Number of datapoints: 14000\n",
       "    MinMaxScaler(feature_range=(-1, 1))"
      ]
     },
     "execution_count": 2,
     "metadata": {},
     "output_type": "execute_result"
    }
   ],
   "source": [
    "dataset = TrafficDataset.from_file(\n",
    "    \"../../deep_traffic_generation/data/traffic_noga_tilFAF_train.pkl\",\n",
    "    features=[\"track\", \"groundspeed\", \"altitude\", \"timedelta\"],\n",
    "    scaler=MinMaxScaler(feature_range=(-1,1)),\n",
    "    shape=\"image\",\n",
    "    info_params={\"features\": [\"latitude\", \"longitude\"], \"index\": -1},\n",
    ")\n",
    "dataset"
   ]
  },
  {
   "cell_type": "code",
   "execution_count": 3,
   "metadata": {},
   "outputs": [
    {
     "data": {
      "text/plain": [
       "TCVAE(\n",
       "  (encoder): Sequential(\n",
       "    (0): TCN(\n",
       "      (network): Sequential(\n",
       "        (0): ResidualBlock(\n",
       "          (tmp_block1): TemporalBlock(\n",
       "            (conv): Conv1d(4, 64, kernel_size=(16,), stride=(1,))\n",
       "            (dropout): Dropout(p=0.0, inplace=False)\n",
       "          )\n",
       "          (tmp_block2): TemporalBlock(\n",
       "            (conv): Conv1d(64, 64, kernel_size=(16,), stride=(1,))\n",
       "            (dropout): Dropout(p=0.0, inplace=False)\n",
       "          )\n",
       "          (downsample): Conv1d(4, 64, kernel_size=(1,), stride=(1,))\n",
       "        )\n",
       "        (1): ResidualBlock(\n",
       "          (tmp_block1): TemporalBlock(\n",
       "            (conv): Conv1d(64, 64, kernel_size=(16,), stride=(1,), dilation=(2,))\n",
       "            (dropout): Dropout(p=0.0, inplace=False)\n",
       "          )\n",
       "          (tmp_block2): TemporalBlock(\n",
       "            (conv): Conv1d(64, 64, kernel_size=(16,), stride=(1,), dilation=(2,))\n",
       "            (dropout): Dropout(p=0.0, inplace=False)\n",
       "          )\n",
       "        )\n",
       "        (2): ResidualBlock(\n",
       "          (tmp_block1): TemporalBlock(\n",
       "            (conv): Conv1d(64, 64, kernel_size=(16,), stride=(1,), dilation=(4,))\n",
       "            (dropout): Dropout(p=0.0, inplace=False)\n",
       "          )\n",
       "          (tmp_block2): TemporalBlock(\n",
       "            (conv): Conv1d(64, 64, kernel_size=(16,), stride=(1,), dilation=(4,))\n",
       "            (dropout): Dropout(p=0.0, inplace=False)\n",
       "          )\n",
       "        )\n",
       "      )\n",
       "    )\n",
       "    (1): AvgPool1d(kernel_size=(10,), stride=(10,), padding=(0,))\n",
       "    (2): Flatten(start_dim=1, end_dim=-1)\n",
       "  )\n",
       "  (lsr): GaussianMixtureLSR(\n",
       "    (z_locs): ModuleList(\n",
       "      (0): Linear(in_features=1280, out_features=256, bias=True)\n",
       "    )\n",
       "    (z_log_vars): ModuleList(\n",
       "      (0): Linear(in_features=1280, out_features=256, bias=True)\n",
       "    )\n",
       "    (z_weights): Linear(in_features=1280, out_features=1, bias=True)\n",
       "  )\n",
       "  (decoder): TCDecoder(\n",
       "    (decode_entry): Linear(in_features=256, out_features=1280, bias=True)\n",
       "    (decoder): Sequential(\n",
       "      (0): Upsample(scale_factor=10.0, mode=nearest)\n",
       "      (1): TCN(\n",
       "        (network): Sequential(\n",
       "          (0): ResidualBlock(\n",
       "            (tmp_block1): TemporalBlock(\n",
       "              (conv): Conv1d(64, 64, kernel_size=(16,), stride=(1,))\n",
       "              (dropout): Dropout(p=0.0, inplace=False)\n",
       "            )\n",
       "            (tmp_block2): TemporalBlock(\n",
       "              (conv): Conv1d(64, 64, kernel_size=(16,), stride=(1,))\n",
       "              (dropout): Dropout(p=0.0, inplace=False)\n",
       "            )\n",
       "          )\n",
       "          (1): ResidualBlock(\n",
       "            (tmp_block1): TemporalBlock(\n",
       "              (conv): Conv1d(64, 64, kernel_size=(16,), stride=(1,), dilation=(2,))\n",
       "              (dropout): Dropout(p=0.0, inplace=False)\n",
       "            )\n",
       "            (tmp_block2): TemporalBlock(\n",
       "              (conv): Conv1d(64, 64, kernel_size=(16,), stride=(1,), dilation=(2,))\n",
       "              (dropout): Dropout(p=0.0, inplace=False)\n",
       "            )\n",
       "          )\n",
       "          (2): ResidualBlock(\n",
       "            (tmp_block1): TemporalBlock(\n",
       "              (conv): Conv1d(64, 4, kernel_size=(16,), stride=(1,), dilation=(4,))\n",
       "              (dropout): Dropout(p=0.0, inplace=False)\n",
       "            )\n",
       "            (tmp_block2): TemporalBlock(\n",
       "              (conv): Conv1d(4, 4, kernel_size=(16,), stride=(1,), dilation=(4,))\n",
       "              (dropout): Dropout(p=0.0, inplace=False)\n",
       "            )\n",
       "            (downsample): Conv1d(64, 4, kernel_size=(1,), stride=(1,))\n",
       "          )\n",
       "        )\n",
       "      )\n",
       "    )\n",
       "  )\n",
       "  (out_activ): Identity()\n",
       ")"
      ]
     },
     "execution_count": 3,
     "metadata": {},
     "output_type": "execute_result"
    }
   ],
   "source": [
    "from os import walk\n",
    "\n",
    "filenames = next(walk(\"../../deep_traffic_generation/lightning_logs/tcvae/version_14/checkpoints\"), (None, None, []))[2]\n",
    "\n",
    "FirstStage = TCVAE.load_from_checkpoint(\n",
    "    \"../../deep_traffic_generation/lightning_logs/tcvae/version_14/checkpoints/\" + filenames[0],\n",
    "    hparams_file=\"../../deep_traffic_generation/lightning_logs/tcvae/version_14/hparams.yaml\",\n",
    "    dataset_params=dataset.parameters,\n",
    ")\n",
    "FirstStage.eval()"
   ]
  },
  {
   "cell_type": "code",
   "execution_count": 4,
   "metadata": {},
   "outputs": [],
   "source": [
    "# Latent Space\n",
    "\n",
    "h = FirstStage.encoder(dataset.data)\n",
    "q = FirstStage.lsr(h)\n",
    "z = q.rsample()\n",
    "input_SecondStage = z.detach().cpu()\n",
    "\n",
    "scaler=MinMaxScaler(feature_range=(-1, 1))\n",
    "input_SecondStage = torch.Tensor(scaler.fit_transform(input_SecondStage))\n",
    "\n",
    "SecondStage_train_loader, SecondStage_val_loader, SecondStage_test_loader = get_dataloaders(\n",
    "        input_SecondStage,\n",
    "        0.8, #train_ratio\n",
    "        0.2, #val_ratio\n",
    "        200, #batch_size\n",
    "        200, #test_batch_size\n",
    "    )"
   ]
  },
  {
   "cell_type": "markdown",
   "metadata": {},
   "source": [
    "# Second Stage Training"
   ]
  },
  {
   "cell_type": "code",
   "execution_count": 5,
   "metadata": {},
   "outputs": [
    {
     "name": "stderr",
     "output_type": "stream",
     "text": [
      "GPU available: False, used: False\n",
      "TPU available: False, using: 0 TPU cores\n",
      "IPU available: False, using: 0 IPUs\n",
      "\n",
      "  | Name      | Type   | Params\n",
      "-------------------------------------\n",
      "0 | encoder   | FCN    | 2.4 M \n",
      "1 | decoder   | FCN    | 2.6 M \n",
      "2 | fc_mu     | Linear | 262 K \n",
      "3 | fc_var    | Linear | 262 K \n",
      "4 | out_activ | Tanh   | 0     \n",
      "-------------------------------------\n",
      "5.5 M     Trainable params\n",
      "0         Non-trainable params\n",
      "5.5 M     Total params\n",
      "22.089    Total estimated model params size (MB)\n"
     ]
    },
    {
     "data": {
      "application/vnd.jupyter.widget-view+json": {
       "model_id": "72a6fa0c246c4c9e9a8a3b0e9ffdfbeb",
       "version_major": 2,
       "version_minor": 0
      },
      "text/plain": [
       "Training: -1it [00:00, ?it/s]"
      ]
     },
     "metadata": {},
     "output_type": "display_data"
    }
   ],
   "source": [
    "torch.manual_seed(42)\n",
    "\n",
    "SecondStage = VAE(input_dim= 256, latent_dim= 256, h_dims=[1024,1024,1024])\n",
    "trainer = pl.Trainer(gpus=0, max_epochs=1000, progress_bar_refresh_rate=1)\n",
    "trainer.fit(SecondStage, SecondStage_train_loader)"
   ]
  },
  {
   "cell_type": "code",
   "execution_count": null,
   "metadata": {},
   "outputs": [],
   "source": []
  }
 ],
 "metadata": {
  "interpreter": {
   "hash": "78622b9d858dedd18221a4db34d49c6a1ee9b4676c3d79c0fc0968b8a58969cd"
  },
  "kernelspec": {
   "display_name": "Python 3.9.4 64-bit ('myenv': conda)",
   "language": "python",
   "name": "python3"
  },
  "language_info": {
   "codemirror_mode": {
    "name": "ipython",
    "version": 3
   },
   "file_extension": ".py",
   "mimetype": "text/x-python",
   "name": "python",
   "nbconvert_exporter": "python",
   "pygments_lexer": "ipython3",
   "version": "3.9.4"
  },
  "orig_nbformat": 4
 },
 "nbformat": 4,
 "nbformat_minor": 2
}
